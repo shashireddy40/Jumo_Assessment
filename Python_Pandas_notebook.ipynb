{
 "cells": [
  {
   "cell_type": "code",
   "execution_count": 22,
   "metadata": {},
   "outputs": [],
   "source": [
    "import pandas as pd"
   ]
  },
  {
   "cell_type": "raw",
   "metadata": {},
   "source": [
    "## Loading Data"
   ]
  },
  {
   "cell_type": "code",
   "execution_count": 23,
   "metadata": {},
   "outputs": [],
   "source": [
    "loans=pd.read_csv(\"Loans.csv\", header='infer')"
   ]
  },
  {
   "cell_type": "code",
   "execution_count": 24,
   "metadata": {},
   "outputs": [
    {
     "data": {
      "text/html": [
       "<div>\n",
       "<style scoped>\n",
       "    .dataframe tbody tr th:only-of-type {\n",
       "        vertical-align: middle;\n",
       "    }\n",
       "\n",
       "    .dataframe tbody tr th {\n",
       "        vertical-align: top;\n",
       "    }\n",
       "\n",
       "    .dataframe thead th {\n",
       "        text-align: right;\n",
       "    }\n",
       "</style>\n",
       "<table border=\"1\" class=\"dataframe\">\n",
       "  <thead>\n",
       "    <tr style=\"text-align: right;\">\n",
       "      <th></th>\n",
       "      <th>MSISDN</th>\n",
       "      <th>Network</th>\n",
       "      <th>Date</th>\n",
       "      <th>Product</th>\n",
       "      <th>Amount</th>\n",
       "    </tr>\n",
       "  </thead>\n",
       "  <tbody>\n",
       "    <tr>\n",
       "      <th>0</th>\n",
       "      <td>27729554427</td>\n",
       "      <td>'Network 1'</td>\n",
       "      <td>'12-Mar-2016'</td>\n",
       "      <td>'Loan Product 1'</td>\n",
       "      <td>1000.0</td>\n",
       "    </tr>\n",
       "    <tr>\n",
       "      <th>1</th>\n",
       "      <td>27722342551</td>\n",
       "      <td>'Network 2'</td>\n",
       "      <td>'16-Mar-2016'</td>\n",
       "      <td>'Loan Product 1'</td>\n",
       "      <td>1122.0</td>\n",
       "    </tr>\n",
       "    <tr>\n",
       "      <th>2</th>\n",
       "      <td>27725544272</td>\n",
       "      <td>'Network 3'</td>\n",
       "      <td>'17-Mar-2016'</td>\n",
       "      <td>'Loan Product 2'</td>\n",
       "      <td>2084.0</td>\n",
       "    </tr>\n",
       "    <tr>\n",
       "      <th>3</th>\n",
       "      <td>27725326345</td>\n",
       "      <td>'Network 1'</td>\n",
       "      <td>'18-Mar-2016'</td>\n",
       "      <td>'Loan Product 2'</td>\n",
       "      <td>3098.0</td>\n",
       "    </tr>\n",
       "    <tr>\n",
       "      <th>4</th>\n",
       "      <td>27729234533</td>\n",
       "      <td>'Network 2'</td>\n",
       "      <td>'01-Apr-2016'</td>\n",
       "      <td>'Loan Product 1'</td>\n",
       "      <td>5671.0</td>\n",
       "    </tr>\n",
       "  </tbody>\n",
       "</table>\n",
       "</div>"
      ],
      "text/plain": [
       "        MSISDN      Network           Date           Product  Amount\n",
       "0  27729554427  'Network 1'  '12-Mar-2016'  'Loan Product 1'  1000.0\n",
       "1  27722342551  'Network 2'  '16-Mar-2016'  'Loan Product 1'  1122.0\n",
       "2  27725544272  'Network 3'  '17-Mar-2016'  'Loan Product 2'  2084.0\n",
       "3  27725326345  'Network 1'  '18-Mar-2016'  'Loan Product 2'  3098.0\n",
       "4  27729234533  'Network 2'  '01-Apr-2016'  'Loan Product 1'  5671.0"
      ]
     },
     "execution_count": 24,
     "metadata": {},
     "output_type": "execute_result"
    }
   ],
   "source": [
    "loans.head(5)"
   ]
  },
  {
   "cell_type": "raw",
   "metadata": {},
   "source": [
    "## Creating Month from given string "
   ]
  },
  {
   "cell_type": "code",
   "execution_count": 25,
   "metadata": {},
   "outputs": [],
   "source": [
    "loans['Month']=loans.Date.str[4:7]"
   ]
  },
  {
   "cell_type": "code",
   "execution_count": 26,
   "metadata": {},
   "outputs": [
    {
     "data": {
      "text/html": [
       "<div>\n",
       "<style scoped>\n",
       "    .dataframe tbody tr th:only-of-type {\n",
       "        vertical-align: middle;\n",
       "    }\n",
       "\n",
       "    .dataframe tbody tr th {\n",
       "        vertical-align: top;\n",
       "    }\n",
       "\n",
       "    .dataframe thead th {\n",
       "        text-align: right;\n",
       "    }\n",
       "</style>\n",
       "<table border=\"1\" class=\"dataframe\">\n",
       "  <thead>\n",
       "    <tr style=\"text-align: right;\">\n",
       "      <th></th>\n",
       "      <th>MSISDN</th>\n",
       "      <th>Network</th>\n",
       "      <th>Date</th>\n",
       "      <th>Product</th>\n",
       "      <th>Amount</th>\n",
       "      <th>Month</th>\n",
       "    </tr>\n",
       "  </thead>\n",
       "  <tbody>\n",
       "    <tr>\n",
       "      <th>0</th>\n",
       "      <td>27729554427</td>\n",
       "      <td>'Network 1'</td>\n",
       "      <td>'12-Mar-2016'</td>\n",
       "      <td>'Loan Product 1'</td>\n",
       "      <td>1000.0</td>\n",
       "      <td>Mar</td>\n",
       "    </tr>\n",
       "    <tr>\n",
       "      <th>1</th>\n",
       "      <td>27722342551</td>\n",
       "      <td>'Network 2'</td>\n",
       "      <td>'16-Mar-2016'</td>\n",
       "      <td>'Loan Product 1'</td>\n",
       "      <td>1122.0</td>\n",
       "      <td>Mar</td>\n",
       "    </tr>\n",
       "    <tr>\n",
       "      <th>2</th>\n",
       "      <td>27725544272</td>\n",
       "      <td>'Network 3'</td>\n",
       "      <td>'17-Mar-2016'</td>\n",
       "      <td>'Loan Product 2'</td>\n",
       "      <td>2084.0</td>\n",
       "      <td>Mar</td>\n",
       "    </tr>\n",
       "    <tr>\n",
       "      <th>3</th>\n",
       "      <td>27725326345</td>\n",
       "      <td>'Network 1'</td>\n",
       "      <td>'18-Mar-2016'</td>\n",
       "      <td>'Loan Product 2'</td>\n",
       "      <td>3098.0</td>\n",
       "      <td>Mar</td>\n",
       "    </tr>\n",
       "    <tr>\n",
       "      <th>4</th>\n",
       "      <td>27729234533</td>\n",
       "      <td>'Network 2'</td>\n",
       "      <td>'01-Apr-2016'</td>\n",
       "      <td>'Loan Product 1'</td>\n",
       "      <td>5671.0</td>\n",
       "      <td>Apr</td>\n",
       "    </tr>\n",
       "  </tbody>\n",
       "</table>\n",
       "</div>"
      ],
      "text/plain": [
       "        MSISDN      Network           Date           Product  Amount Month\n",
       "0  27729554427  'Network 1'  '12-Mar-2016'  'Loan Product 1'  1000.0   Mar\n",
       "1  27722342551  'Network 2'  '16-Mar-2016'  'Loan Product 1'  1122.0   Mar\n",
       "2  27725544272  'Network 3'  '17-Mar-2016'  'Loan Product 2'  2084.0   Mar\n",
       "3  27725326345  'Network 1'  '18-Mar-2016'  'Loan Product 2'  3098.0   Mar\n",
       "4  27729234533  'Network 2'  '01-Apr-2016'  'Loan Product 1'  5671.0   Apr"
      ]
     },
     "execution_count": 26,
     "metadata": {},
     "output_type": "execute_result"
    }
   ],
   "source": [
    "loans.head(5)"
   ]
  },
  {
   "cell_type": "raw",
   "metadata": {},
   "source": [
    "## Grouping data with Aggregation"
   ]
  },
  {
   "cell_type": "code",
   "execution_count": 27,
   "metadata": {},
   "outputs": [],
   "source": [
    "AgrregationDF = loans.groupby(['Product', 'Network', 'Month']).agg({'Amount': ['sum', 'count']})\n",
    "# Renaming Column Names \n",
    "AgrregationDF.columns = ['Amounts', 'Counts']\n",
    "AgrregationDF = AgrregationDF.reset_index()"
   ]
  },
  {
   "cell_type": "raw",
   "metadata": {},
   "source": [
    "## Creating Tuple for Amounts and Counts"
   ]
  },
  {
   "cell_type": "code",
   "execution_count": 28,
   "metadata": {},
   "outputs": [],
   "source": [
    "AgrregationDF['tuple_agg'] = AgrregationDF.apply(lambda x: (x.Counts,x.Amounts), axis=1)"
   ]
  },
  {
   "cell_type": "raw",
   "metadata": {},
   "source": [
    "## Selecting required Columns"
   ]
  },
  {
   "cell_type": "code",
   "execution_count": 29,
   "metadata": {},
   "outputs": [],
   "source": [
    "headers = ['Network', 'Product', 'Month', 'tuple_agg']"
   ]
  },
  {
   "cell_type": "raw",
   "metadata": {},
   "source": [
    "## Saving output"
   ]
  },
  {
   "cell_type": "code",
   "execution_count": 36,
   "metadata": {},
   "outputs": [],
   "source": [
    "AgrregationDF.sort_values(['Month','Network'], ascending = True).to_csv('output.csv', columns = headers, index=False)"
   ]
  },
  {
   "cell_type": "code",
   "execution_count": 37,
   "metadata": {},
   "outputs": [
    {
     "data": {
      "text/html": [
       "<div>\n",
       "<style scoped>\n",
       "    .dataframe tbody tr th:only-of-type {\n",
       "        vertical-align: middle;\n",
       "    }\n",
       "\n",
       "    .dataframe tbody tr th {\n",
       "        vertical-align: top;\n",
       "    }\n",
       "\n",
       "    .dataframe thead th {\n",
       "        text-align: right;\n",
       "    }\n",
       "</style>\n",
       "<table border=\"1\" class=\"dataframe\">\n",
       "  <thead>\n",
       "    <tr style=\"text-align: right;\">\n",
       "      <th></th>\n",
       "      <th>Product</th>\n",
       "      <th>Network</th>\n",
       "      <th>Month</th>\n",
       "      <th>Amounts</th>\n",
       "      <th>Counts</th>\n",
       "      <th>tuple_agg</th>\n",
       "    </tr>\n",
       "  </thead>\n",
       "  <tbody>\n",
       "    <tr>\n",
       "      <th>0</th>\n",
       "      <td>'Loan Product 1'</td>\n",
       "      <td>'Network 1'</td>\n",
       "      <td>Mar</td>\n",
       "      <td>1000.0</td>\n",
       "      <td>1</td>\n",
       "      <td>(1, 1000.0)</td>\n",
       "    </tr>\n",
       "    <tr>\n",
       "      <th>1</th>\n",
       "      <td>'Loan Product 1'</td>\n",
       "      <td>'Network 2'</td>\n",
       "      <td>Apr</td>\n",
       "      <td>5671.0</td>\n",
       "      <td>1</td>\n",
       "      <td>(1, 5671.0)</td>\n",
       "    </tr>\n",
       "    <tr>\n",
       "      <th>2</th>\n",
       "      <td>'Loan Product 1'</td>\n",
       "      <td>'Network 2'</td>\n",
       "      <td>Mar</td>\n",
       "      <td>1122.0</td>\n",
       "      <td>1</td>\n",
       "      <td>(1, 1122.0)</td>\n",
       "    </tr>\n",
       "    <tr>\n",
       "      <th>3</th>\n",
       "      <td>'Loan Product 2'</td>\n",
       "      <td>'Network 1'</td>\n",
       "      <td>Apr</td>\n",
       "      <td>1801.0</td>\n",
       "      <td>1</td>\n",
       "      <td>(1, 1801.0)</td>\n",
       "    </tr>\n",
       "    <tr>\n",
       "      <th>4</th>\n",
       "      <td>'Loan Product 2'</td>\n",
       "      <td>'Network 1'</td>\n",
       "      <td>Mar</td>\n",
       "      <td>3098.0</td>\n",
       "      <td>1</td>\n",
       "      <td>(1, 3098.0)</td>\n",
       "    </tr>\n",
       "    <tr>\n",
       "      <th>5</th>\n",
       "      <td>'Loan Product 2'</td>\n",
       "      <td>'Network 3'</td>\n",
       "      <td>Mar</td>\n",
       "      <td>2084.0</td>\n",
       "      <td>1</td>\n",
       "      <td>(1, 2084.0)</td>\n",
       "    </tr>\n",
       "    <tr>\n",
       "      <th>6</th>\n",
       "      <td>'Loan Product 3'</td>\n",
       "      <td>'Network 2'</td>\n",
       "      <td>Apr</td>\n",
       "      <td>1747.0</td>\n",
       "      <td>1</td>\n",
       "      <td>(1, 1747.0)</td>\n",
       "    </tr>\n",
       "    <tr>\n",
       "      <th>7</th>\n",
       "      <td>'Loan Product 3'</td>\n",
       "      <td>'Network 3'</td>\n",
       "      <td>Apr</td>\n",
       "      <td>1928.0</td>\n",
       "      <td>1</td>\n",
       "      <td>(1, 1928.0)</td>\n",
       "    </tr>\n",
       "  </tbody>\n",
       "</table>\n",
       "</div>"
      ],
      "text/plain": [
       "            Product      Network Month  Amounts  Counts    tuple_agg\n",
       "0  'Loan Product 1'  'Network 1'   Mar   1000.0       1  (1, 1000.0)\n",
       "1  'Loan Product 1'  'Network 2'   Apr   5671.0       1  (1, 5671.0)\n",
       "2  'Loan Product 1'  'Network 2'   Mar   1122.0       1  (1, 1122.0)\n",
       "3  'Loan Product 2'  'Network 1'   Apr   1801.0       1  (1, 1801.0)\n",
       "4  'Loan Product 2'  'Network 1'   Mar   3098.0       1  (1, 3098.0)\n",
       "5  'Loan Product 2'  'Network 3'   Mar   2084.0       1  (1, 2084.0)\n",
       "6  'Loan Product 3'  'Network 2'   Apr   1747.0       1  (1, 1747.0)\n",
       "7  'Loan Product 3'  'Network 3'   Apr   1928.0       1  (1, 1928.0)"
      ]
     },
     "execution_count": 37,
     "metadata": {},
     "output_type": "execute_result"
    }
   ],
   "source": [
    "AgrregationDF"
   ]
  },
  {
   "cell_type": "code",
   "execution_count": 38,
   "metadata": {},
   "outputs": [
    {
     "data": {
      "text/html": [
       "<div>\n",
       "<style scoped>\n",
       "    .dataframe tbody tr th:only-of-type {\n",
       "        vertical-align: middle;\n",
       "    }\n",
       "\n",
       "    .dataframe tbody tr th {\n",
       "        vertical-align: top;\n",
       "    }\n",
       "\n",
       "    .dataframe thead th {\n",
       "        text-align: right;\n",
       "    }\n",
       "</style>\n",
       "<table border=\"1\" class=\"dataframe\">\n",
       "  <thead>\n",
       "    <tr style=\"text-align: right;\">\n",
       "      <th></th>\n",
       "      <th>Network</th>\n",
       "      <th>Product</th>\n",
       "      <th>Month</th>\n",
       "      <th>tuple_agg</th>\n",
       "    </tr>\n",
       "  </thead>\n",
       "  <tbody>\n",
       "    <tr>\n",
       "      <th>0</th>\n",
       "      <td>'Network 1'</td>\n",
       "      <td>'Loan Product 1'</td>\n",
       "      <td>Mar</td>\n",
       "      <td>(1, 1000.0)</td>\n",
       "    </tr>\n",
       "    <tr>\n",
       "      <th>1</th>\n",
       "      <td>'Network 2'</td>\n",
       "      <td>'Loan Product 1'</td>\n",
       "      <td>Apr</td>\n",
       "      <td>(1, 5671.0)</td>\n",
       "    </tr>\n",
       "    <tr>\n",
       "      <th>2</th>\n",
       "      <td>'Network 2'</td>\n",
       "      <td>'Loan Product 1'</td>\n",
       "      <td>Mar</td>\n",
       "      <td>(1, 1122.0)</td>\n",
       "    </tr>\n",
       "    <tr>\n",
       "      <th>3</th>\n",
       "      <td>'Network 1'</td>\n",
       "      <td>'Loan Product 2'</td>\n",
       "      <td>Apr</td>\n",
       "      <td>(1, 1801.0)</td>\n",
       "    </tr>\n",
       "    <tr>\n",
       "      <th>4</th>\n",
       "      <td>'Network 1'</td>\n",
       "      <td>'Loan Product 2'</td>\n",
       "      <td>Mar</td>\n",
       "      <td>(1, 3098.0)</td>\n",
       "    </tr>\n",
       "    <tr>\n",
       "      <th>5</th>\n",
       "      <td>'Network 3'</td>\n",
       "      <td>'Loan Product 2'</td>\n",
       "      <td>Mar</td>\n",
       "      <td>(1, 2084.0)</td>\n",
       "    </tr>\n",
       "    <tr>\n",
       "      <th>6</th>\n",
       "      <td>'Network 2'</td>\n",
       "      <td>'Loan Product 3'</td>\n",
       "      <td>Apr</td>\n",
       "      <td>(1, 1747.0)</td>\n",
       "    </tr>\n",
       "    <tr>\n",
       "      <th>7</th>\n",
       "      <td>'Network 3'</td>\n",
       "      <td>'Loan Product 3'</td>\n",
       "      <td>Apr</td>\n",
       "      <td>(1, 1928.0)</td>\n",
       "    </tr>\n",
       "  </tbody>\n",
       "</table>\n",
       "</div>"
      ],
      "text/plain": [
       "       Network           Product Month    tuple_agg\n",
       "0  'Network 1'  'Loan Product 1'   Mar  (1, 1000.0)\n",
       "1  'Network 2'  'Loan Product 1'   Apr  (1, 5671.0)\n",
       "2  'Network 2'  'Loan Product 1'   Mar  (1, 1122.0)\n",
       "3  'Network 1'  'Loan Product 2'   Apr  (1, 1801.0)\n",
       "4  'Network 1'  'Loan Product 2'   Mar  (1, 3098.0)\n",
       "5  'Network 3'  'Loan Product 2'   Mar  (1, 2084.0)\n",
       "6  'Network 2'  'Loan Product 3'   Apr  (1, 1747.0)\n",
       "7  'Network 3'  'Loan Product 3'   Apr  (1, 1928.0)"
      ]
     },
     "execution_count": 38,
     "metadata": {},
     "output_type": "execute_result"
    }
   ],
   "source": [
    "AgrregationDF[headers]"
   ]
  },
  {
   "cell_type": "raw",
   "metadata": {},
   "source": [
    "## Type of ouput"
   ]
  },
  {
   "cell_type": "code",
   "execution_count": 18,
   "metadata": {},
   "outputs": [
    {
     "data": {
      "text/plain": [
       "tuple"
      ]
     },
     "execution_count": 18,
     "metadata": {},
     "output_type": "execute_result"
    }
   ],
   "source": [
    "type((AgrregationDF)['tuple_agg'][1])"
   ]
  },
  {
   "cell_type": "code",
   "execution_count": null,
   "metadata": {},
   "outputs": [],
   "source": []
  }
 ],
 "metadata": {
  "kernelspec": {
   "display_name": "Python 3",
   "language": "python",
   "name": "python3"
  },
  "language_info": {
   "codemirror_mode": {
    "name": "ipython",
    "version": 3
   },
   "file_extension": ".py",
   "mimetype": "text/x-python",
   "name": "python",
   "nbconvert_exporter": "python",
   "pygments_lexer": "ipython3",
   "version": "3.6.8"
  }
 },
 "nbformat": 4,
 "nbformat_minor": 4
}
